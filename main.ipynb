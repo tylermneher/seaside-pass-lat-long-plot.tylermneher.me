{
 "cells": [
  {
   "cell_type": "code",
   "execution_count": 4,
   "id": "abef0a42-97b7-4c37-8292-4f28c0727c07",
   "metadata": {},
   "outputs": [],
   "source": [
    "import pandas as pd\n",
    "import plotly.express as px\n",
    "import requests\n",
    "import json"
   ]
  },
  {
   "cell_type": "code",
   "execution_count": 7,
   "id": "1f456e60-b459-4234-b58b-10d8a82df59a",
   "metadata": {},
   "outputs": [
    {
     "data": {
      "text/plain": [
       "{'formatVersion': 1,\n",
       " 'passTypeIdentifier': 'pass.org.seasideparknj.beachcontrol.2023',\n",
       " 'serialNumber': '195345',\n",
       " 'teamIdentifier': 'PRH8B2NRNT',\n",
       " 'locations': [{'longitude': -74.071782, 'latitude': 39.93623},\n",
       "  {'longitude': -74.072201, 'latitude': 39.934511},\n",
       "  {'longitude': -74.072619, 'latitude': 39.932784},\n",
       "  {'longitude': -74.073048, 'latitude': 39.93113},\n",
       "  {'longitude': -74.073467, 'latitude': 39.92946},\n",
       "  {'longitude': -74.073885, 'latitude': 39.927757},\n",
       "  {'longitude': -74.074282, 'latitude': 39.926045},\n",
       "  {'longitude': -74.07469, 'latitude': 39.924326},\n",
       "  {'longitude': -74.075119, 'latitude': 39.922614},\n",
       "  {'longitude': -74.075537, 'latitude': 39.920903}],\n",
       " 'barcode': {'message': 'G/huXLB+5uqhPhIMWSO6NA==',\n",
       "  'format': 'PKBarcodeFormatQR',\n",
       "  'messageEncoding': 'iso-8859-1'},\n",
       " 'organizationName': 'Borough of SeasidePark, New Jersey',\n",
       " 'description': 'Beach Control Order Reciept',\n",
       " 'logoText': 'Order Reciept',\n",
       " 'foregroundColor': 'rgb(255, 255, 255)',\n",
       " 'backgroundColor': 'rgb(9, 168, 250)',\n",
       " 'labelColor': 'rgb(255, 238, 0)',\n",
       " 'generic': {'headerFields': [{'key': 'orderId',\n",
       "    'label': 'Order #',\n",
       "    'value': '195345',\n",
       "    'textAlignment': 'PKTextAlignmentRight'}],\n",
       "  'primaryFields': [{'key': 'orderTotal',\n",
       "    'label': 'Order Total',\n",
       "    'value': '$170.00'}],\n",
       "  'secondaryFields': [{'key': 'lineItems',\n",
       "    'label': 'Beach Badges',\n",
       "    'value': 'Seasonal (2), Senior (2)'}],\n",
       "  'backFields': [{'key': 'instructions',\n",
       "    'label': 'Pickup Instructions',\n",
       "    'value': 'Present this pass and a valid ID to the cashier to pick up your order.\\n\\nFor locations, hours of operation and other information visit the Beach Control web page: https://www.seasideparknj.org/offices-departments/beach-control/'},\n",
       "   {'key': 'customerService',\n",
       "    'label': 'Customer Service',\n",
       "    'value': 'For questions regarding your order call 732-793-3700 (Mon\\u200b-\\u200bFri 8 A\\u200b\\u200bM - 4 P\\u200bM EST)'}]}}"
      ]
     },
     "execution_count": 7,
     "metadata": {},
     "output_type": "execute_result"
    }
   ],
   "source": [
    "f = open('pass.json')\n",
    "\n",
    "data = json.load(f)\n",
    "\n",
    "data"
   ]
  },
  {
   "cell_type": "code",
   "execution_count": 16,
   "id": "9ede4504-debe-482b-9030-3ea8a0344907",
   "metadata": {},
   "outputs": [
    {
     "data": {
      "text/html": [
       "<div>\n",
       "<style scoped>\n",
       "    .dataframe tbody tr th:only-of-type {\n",
       "        vertical-align: middle;\n",
       "    }\n",
       "\n",
       "    .dataframe tbody tr th {\n",
       "        vertical-align: top;\n",
       "    }\n",
       "\n",
       "    .dataframe thead th {\n",
       "        text-align: right;\n",
       "    }\n",
       "</style>\n",
       "<table border=\"1\" class=\"dataframe\">\n",
       "  <thead>\n",
       "    <tr style=\"text-align: right;\">\n",
       "      <th></th>\n",
       "      <th>longitude</th>\n",
       "      <th>latitude</th>\n",
       "    </tr>\n",
       "  </thead>\n",
       "  <tbody>\n",
       "    <tr>\n",
       "      <th>0</th>\n",
       "      <td>-74.071782</td>\n",
       "      <td>39.936230</td>\n",
       "    </tr>\n",
       "    <tr>\n",
       "      <th>1</th>\n",
       "      <td>-74.072201</td>\n",
       "      <td>39.934511</td>\n",
       "    </tr>\n",
       "    <tr>\n",
       "      <th>2</th>\n",
       "      <td>-74.072619</td>\n",
       "      <td>39.932784</td>\n",
       "    </tr>\n",
       "    <tr>\n",
       "      <th>3</th>\n",
       "      <td>-74.073048</td>\n",
       "      <td>39.931130</td>\n",
       "    </tr>\n",
       "    <tr>\n",
       "      <th>4</th>\n",
       "      <td>-74.073467</td>\n",
       "      <td>39.929460</td>\n",
       "    </tr>\n",
       "    <tr>\n",
       "      <th>5</th>\n",
       "      <td>-74.073885</td>\n",
       "      <td>39.927757</td>\n",
       "    </tr>\n",
       "    <tr>\n",
       "      <th>6</th>\n",
       "      <td>-74.074282</td>\n",
       "      <td>39.926045</td>\n",
       "    </tr>\n",
       "    <tr>\n",
       "      <th>7</th>\n",
       "      <td>-74.074690</td>\n",
       "      <td>39.924326</td>\n",
       "    </tr>\n",
       "    <tr>\n",
       "      <th>8</th>\n",
       "      <td>-74.075119</td>\n",
       "      <td>39.922614</td>\n",
       "    </tr>\n",
       "    <tr>\n",
       "      <th>9</th>\n",
       "      <td>-74.075537</td>\n",
       "      <td>39.920903</td>\n",
       "    </tr>\n",
       "  </tbody>\n",
       "</table>\n",
       "</div>"
      ],
      "text/plain": [
       "   longitude   latitude\n",
       "0 -74.071782  39.936230\n",
       "1 -74.072201  39.934511\n",
       "2 -74.072619  39.932784\n",
       "3 -74.073048  39.931130\n",
       "4 -74.073467  39.929460\n",
       "5 -74.073885  39.927757\n",
       "6 -74.074282  39.926045\n",
       "7 -74.074690  39.924326\n",
       "8 -74.075119  39.922614\n",
       "9 -74.075537  39.920903"
      ]
     },
     "execution_count": 16,
     "metadata": {},
     "output_type": "execute_result"
    }
   ],
   "source": [
    "df = pd.json_normalize(data, record_path=['locations'])\n",
    "df"
   ]
  },
  {
   "cell_type": "code",
   "execution_count": null,
   "id": "4e089f01-ab5a-41e3-8d93-94a878816db3",
   "metadata": {},
   "outputs": [],
   "source": []
  }
 ],
 "metadata": {
  "kernelspec": {
   "display_name": "Python 3 (ipykernel)",
   "language": "python",
   "name": "python3"
  },
  "language_info": {
   "codemirror_mode": {
    "name": "ipython",
    "version": 3
   },
   "file_extension": ".py",
   "mimetype": "text/x-python",
   "name": "python",
   "nbconvert_exporter": "python",
   "pygments_lexer": "ipython3",
   "version": "3.12.3"
  }
 },
 "nbformat": 4,
 "nbformat_minor": 5
}
